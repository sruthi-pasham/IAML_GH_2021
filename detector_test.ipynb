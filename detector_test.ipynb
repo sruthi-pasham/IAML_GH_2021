{
 "cells": [
  {
   "cell_type": "code",
   "execution_count": 1,
   "id": "amino-granny",
   "metadata": {},
   "outputs": [],
   "source": [
    "import numpy as np\n",
    "from scipy import stats\n",
    "import matplotlib.pyplot as plt\n"
   ]
  },
  {
   "cell_type": "code",
   "execution_count": 2,
   "id": "horizontal-hamburg",
   "metadata": {},
   "outputs": [],
   "source": [
    "import utils\n",
    "from detector import *\n",
    "pups = utils.load_json('pattern0', 'pupils')\n",
    "real_glints = utils.load_json('pattern0', 'glints')"
   ]
  },
  {
   "cell_type": "code",
   "execution_count": 34,
   "id": "drawn-extent",
   "metadata": {},
   "outputs": [
    {
     "name": "stdout",
     "output_type": "stream",
     "text": [
      "[(1, 3.495347966167747), (32, 2.728611292361676), (41, 2.37015280521949), (38, 2.1415227468580222), (5, 2.025938273675037), (8, 1.4970528611069915), (40, 1.346142236730376), (44, 1.287175776298466), (37, 0.690979824903014), (39, 0.6638224730692122), (7, 0.5899909150485022), (11, 0.5895552103136255), (2, 0.5748152464863447), (22, 0.5643906989853442), (9, 0.5553760989161319), (26, 0.548342401595362), (42, 0.5134225365289008), (6, 0.49808350690126413), (28, 0.4929043125913856), (20, 0.49021481217528207), (17, 0.48871934882746326), (12, 0.4306165718743873), (27, 0.4248081294830137), (18, 0.419046465348622), (35, 0.41613537224602065), (13, 0.3911895677554847), (10, 0.3893492025904944), (43, 0.37903501133073064), (4, 0.34181611824361363), (29, 0.31395116460317024), (36, 0.293780792491712), (24, 0.2872033358760647), (30, 0.2558393197535143), (25, 0.2537863301474584), (3, 0.24473781978413953), (0, 0.23973082087829173), (34, 0.23857731873742474), (19, 0.22312804689183593), (31, 0.20269621239971683), (23, 0.19211008375439673), (16, 0.16889015920947842), (33, 0.1334359528163756), (21, 0.11293092048925922), (15, 0.07668814785884985), (14, 0.017686542638827556)]\n"
     ]
    }
   ],
   "source": [
    "pupil_difference = []\n",
    "for i in range(45):\n",
    "    pupil = find_pupil('inputs/images/pattern0/{}.jpg'.format(str(i)), False)\n",
    "    pupil_center = pupil[0] # from our implementation\n",
    "    pupil_real_center = (pups[i]['cx'], pups[i]['cy']) # coordinates for x and y for the centres\n",
    "    pupil_difference.append((i, utils.dist_tuple(pupil_center, pupil_real_center)))\n",
    "    \n",
    "pupil_difference.sort(key=lambda x: x[1])# how it is sorted \n",
    "pupil_difference.reverse()\n",
    "print(pupil_difference) #Distance between centre of our implementation and real value\n",
    "    \n",
    "   \n"
   ]
  },
  {
   "cell_type": "code",
   "execution_count": 53,
   "id": "insured-discipline",
   "metadata": {},
   "outputs": [],
   "source": [
    "glints_difference = []\n",
    "for i in range(45):\n",
    "    my_glint = find_glints('inputs/images/moving_medium/{}.jpg'.format(str(i)),pupil_center,False)\n",
    "    original_glints = sorted(real_glints[i])\n",
    "    sorted(my_glint)\n",
    "    distance = []\n",
    "    for j in range(len(original_glints)):\n",
    "        x = my_glint[j][0] - original_glints[j][0]\n",
    "        y = my_glint[j][1] - original_glints[j][1]\n",
    "        t = ( abs(x), abs(y))\n",
    "        distance.append(t)\n",
    "   \n",
    "    glints_difference.append(distance)\n",
    "    \n",
    "\n",
    "#print(glints_difference)"
   ]
  },
  {
   "cell_type": "code",
   "execution_count": 46,
   "id": "attractive-examination",
   "metadata": {},
   "outputs": [
    {
     "name": "stdout",
     "output_type": "stream",
     "text": [
      "median pupils\n"
     ]
    },
    {
     "data": {
      "image/png": "[encoded data removed]",
      "text/plain": [
       "<Figure size 432x288 with 1 Axes>"
      ]
     },
     "metadata": {
      "needs_background": "light"
     },
     "output_type": "display_data"
    },
    {
     "name": "stdout",
     "output_type": "stream",
     "text": [
      "mean pupils\n"
     ]
    },
    {
     "data": {
      "image/png": "[encoded data removed]",
      "text/plain": [
       "<Figure size 432x288 with 1 Axes>"
      ]
     },
     "metadata": {
      "needs_background": "light"
     },
     "output_type": "display_data"
    },
    {
     "name": "stdout",
     "output_type": "stream",
     "text": [
      "median glints\n"
     ]
    },
    {
     "data": {
      "image/png": "[encoded data removed]",
      "text/plain": [
       "<Figure size 432x288 with 1 Axes>"
      ]
     },
     "metadata": {
      "needs_background": "light"
     },
     "output_type": "display_data"
    },
    {
     "name": "stdout",
     "output_type": "stream",
     "text": [
      "mean glints\n"
     ]
    },
    {
     "data": {
      "image/png": "[encoded data removed]",
      "text/plain": [
       "<Figure size 432x288 with 1 Axes>"
      ]
     },
     "metadata": {
      "needs_background": "light"
     },
     "output_type": "display_data"
    }
   ],
   "source": [
    "# 4. verify how sorted work for median\n",
    "import numpy as np\n",
    "from matplotlib import pyplot as plt\n",
    "\n",
    "med_pups = [ np.median(x) for x in pupil_difference ]\n",
    "mean_pups = [ np.mean(x) for x in pupil_difference]\n",
    "\n",
    "med_glints = [ np.median(x) for x in glints_difference ]\n",
    "mean_glints = [ np.mean(x) for x in glints_difference ]\n",
    "\n",
    "print('median pupils')  \n",
    "plt.hist(med_pups, cumulative=True,density=True)\n",
    "plt.show()\n",
    "\n",
    "print('mean pupils')  \n",
    "plt.hist(mean_pups,cumulative=True,density=True)\n",
    "plt.show()\n",
    "\n",
    "print('median glints')  \n",
    "plt.hist(med_glints,cumulative=True,density=True)\n",
    "plt.show()\n",
    "\n",
    "print('mean glints')  \n",
    "plt.hist(mean_glints,cumulative=True,density=True)\n",
    "plt.show()\n"
   ]
  },
  {
   "cell_type": "code",
   "execution_count": 43,
   "id": "actual-gambling",
   "metadata": {},
   "outputs": [
    {
     "name": "stdout",
     "output_type": "stream",
     "text": [
      "[-1.0070142307746024, -1.0077519585603205, -1.0083361969958597, -1.0069487979230753, -1.0076260444662923, -1.0081357654174925, -1.0068856991999142, -1.0074426736401154, -1.0078807322699361, -1.0070096165652926, -1.0073065924024192, -1.007647511663273, -1.0079351857847265, -1.008178477221031, -1.008383519796785, -1.0070215886968585, -1.0073201285975346, -1.007642096848248, -1.007938213953034, -1.0081966903494766, -1.0083691952080904, -1.0070366401190272, -1.0073143193675107, -1.007609037339526, -1.0078717875621352, -1.00810864792729, -1.008287752661007, -1.0069970702646556, -1.0072610542146154, -1.007558803705395, -1.0078084827464, -1.0080350391680672, -1.0081796805204466, -1.0069899118557863, -1.0072438644625892, -1.0075145818584652, -1.0077591710005787, -1.0079567276304073, -1.0081241307768292, -1.0069732136796845, -1.0072169328907021, -1.0074641394471395, -1.0076884957671286, -1.0078797362437852, -1.0080392764254549]\n"
     ]
    }
   ],
   "source": [
    "#Interaction Over Union\n",
    "pupil_iou = []\n",
    "for i in range(45):\n",
    "    \n",
    "    pupil = find_pupil('inputs/images/pattern0/{}.jpg'.format(str(i)), False)\n",
    "    val_Rx = pups[i]['cx']\n",
    "    val_Ry = pups[i]['cy']\n",
    "    real = [val_Rx,val_Ry]\n",
    "    #print(\"real\",real)\n",
    "    val_Px = pupil[0][0]\n",
    "    val_Py = pupil[0][1]\n",
    "    predicted = [val_Px,val_Py]\n",
    "    #print(\"predicted\",predicted)\n",
    "   # axes = (1,2)\n",
    "    p= np.multiply(real,predicted)\n",
    "    intersection = np.sum(np.abs(p ), axis=0)\n",
    "    #print(\"intersection\", intersection)\n",
    "    mask = np.sum(np.abs(real), axis=0) + np.sum(np.abs(predicted), axis=0)\n",
    "    union = mask - intersection\n",
    "    smooth = .001\n",
    "    iou = (intersection + smooth) / (union + smooth)\n",
    "    pupil_iou.append(iou)\n",
    "print(pupil_iou)\n",
    "   \n",
    "\n",
    "    #axes = (1,2) \n",
    "    #intersection = np.sum(np.abs(predicted * real  ), axis=axes)\n",
    "    #mask = np.sum(np.abs(real), axis=axes) + np.sum(np.abs(predicted), axis=axes)\n",
    "    #union = mask - intersection\n",
    "    #smooth = .001\n",
    "    #iou = (intersection + smooth) / (union + smooth)\n",
    "    #pupil_iou.append(iou)\n",
    "    \n",
    "#We might need to change the layout of the histogram with N\n",
    "        \n",
    "    \n",
    "\n"
   ]
  },
  {
   "cell_type": "code",
   "execution_count": 47,
   "id": "universal-participant",
   "metadata": {},
   "outputs": [
    {
     "name": "stdout",
     "output_type": "stream",
     "text": [
      "IOU pupils\n"
     ]
    },
    {
     "data": {
      "image/png": "[encoded data removed]",
      "text/plain": [
       "<Figure size 432x288 with 1 Axes>"
      ]
     },
     "metadata": {
      "needs_background": "light"
     },
     "output_type": "display_data"
    }
   ],
   "source": [
    "print('IOU pupils')  \n",
    "plt.hist(pupil_iou, cumulative=True,density=True)\n",
    "plt.show()"
   ]
  },
  {
   "cell_type": "code",
   "execution_count": 69,
   "id": "extra-profit",
   "metadata": {},
   "outputs": [
    {
     "name": "stdout",
     "output_type": "stream",
     "text": [
      "[(67.67619047619047, 30.23809523809524), (21.24444444444447, 37.5), (26.609929078014204, 15.858156028368796), (28.360360360360346, 12.639639639639654)]\n",
      "[67.67619047619047, 30.23809523809524]\n",
      "[21.24444444444447, 37.5]\n",
      "[26.609929078014204, 15.858156028368796]\n",
      "[28.360360360360346, 12.639639639639654]\n",
      "[(2.6761904761904702, 30.76190476190476), (0.6565656565656468, 5.888888888888886), (28.96296296296299, 59.90740740740742), (93.96666666666664, 31.694444444444457)]\n",
      "[2.6761904761904702, 30.76190476190476]\n",
      "[0.6565656565656468, 5.888888888888886]\n",
      "[28.96296296296299, 59.90740740740742]\n",
      "[93.96666666666664, 31.694444444444457]\n",
      "[(3.343434343434353, 31.111111111111114), (1.4736842105263008, 8.877192982456137)]\n"
     ]
    },
    {
     "ename": "IndexError",
     "evalue": "list index out of range",
     "output_type": "error",
     "traceback": [
      "\u001b[0;31m---------------------------------------------------------------------------\u001b[0m",
      "\u001b[0;31mIndexError\u001b[0m                                Traceback (most recent call last)",
      "\u001b[0;32m<ipython-input-69-9aad1ced3f45>\u001b[0m in \u001b[0;36m<module>\u001b[0;34m\u001b[0m\n\u001b[1;32m      6\u001b[0m     \u001b[0mlist1\u001b[0m \u001b[0;34m=\u001b[0m \u001b[0mlist\u001b[0m\u001b[0;34m(\u001b[0m\u001b[0mglints_difference\u001b[0m\u001b[0;34m[\u001b[0m\u001b[0mi\u001b[0m\u001b[0;34m]\u001b[0m\u001b[0;34m[\u001b[0m\u001b[0;36m0\u001b[0m\u001b[0;34m]\u001b[0m\u001b[0;34m)\u001b[0m\u001b[0;34m\u001b[0m\u001b[0;34m\u001b[0m\u001b[0m\n\u001b[1;32m      7\u001b[0m     \u001b[0mlist2\u001b[0m \u001b[0;34m=\u001b[0m \u001b[0mlist\u001b[0m\u001b[0;34m(\u001b[0m\u001b[0mglints_difference\u001b[0m\u001b[0;34m[\u001b[0m\u001b[0mi\u001b[0m\u001b[0;34m]\u001b[0m\u001b[0;34m[\u001b[0m\u001b[0;36m1\u001b[0m\u001b[0;34m]\u001b[0m\u001b[0;34m)\u001b[0m\u001b[0;34m\u001b[0m\u001b[0;34m\u001b[0m\u001b[0m\n\u001b[0;32m----> 8\u001b[0;31m     \u001b[0mlist3\u001b[0m \u001b[0;34m=\u001b[0m \u001b[0mlist\u001b[0m\u001b[0;34m(\u001b[0m\u001b[0mglints_difference\u001b[0m\u001b[0;34m[\u001b[0m\u001b[0mi\u001b[0m\u001b[0;34m]\u001b[0m\u001b[0;34m[\u001b[0m\u001b[0;36m2\u001b[0m\u001b[0;34m]\u001b[0m\u001b[0;34m)\u001b[0m\u001b[0;34m\u001b[0m\u001b[0;34m\u001b[0m\u001b[0m\n\u001b[0m\u001b[1;32m      9\u001b[0m     \u001b[0mlist4\u001b[0m \u001b[0;34m=\u001b[0m \u001b[0mlist\u001b[0m\u001b[0;34m(\u001b[0m\u001b[0mglints_difference\u001b[0m\u001b[0;34m[\u001b[0m\u001b[0mi\u001b[0m\u001b[0;34m]\u001b[0m\u001b[0;34m[\u001b[0m\u001b[0;36m3\u001b[0m\u001b[0;34m]\u001b[0m\u001b[0;34m)\u001b[0m\u001b[0;34m\u001b[0m\u001b[0;34m\u001b[0m\u001b[0m\n\u001b[1;32m     10\u001b[0m     \u001b[0mprint\u001b[0m\u001b[0;34m(\u001b[0m\u001b[0mlist1\u001b[0m\u001b[0;34m)\u001b[0m\u001b[0;34m\u001b[0m\u001b[0;34m\u001b[0m\u001b[0m\n",
      "\u001b[0;31mIndexError\u001b[0m: list index out of range"
     ]
    }
   ],
   "source": [
    "threshold = 10\n",
    "count = 0\n",
    "for i in range(45):\n",
    "   \n",
    "    print(glints_difference[i])\n",
    "    list1 = list(glints_difference[i][0])\n",
    "    list2 = list(glints_difference[i][1])\n",
    "    list3 = list(glints_difference[i][2])\n",
    "    list4 = list(glints_difference[i][3])\n",
    "    print(list1)\n",
    "    print(list2)\n",
    "    print(list3)\n",
    "    print(list4)\n",
    "    if (list1[0]<=20) and  (list1[1]<=20):\n",
    "        count= count +1\n",
    "    \n",
    "\n",
    "\n"
   ]
  },
  {
   "cell_type": "code",
   "execution_count": 57,
   "id": "undefined-pharmaceutical",
   "metadata": {},
   "outputs": [
    {
     "name": "stdout",
     "output_type": "stream",
     "text": [
      "[(2.6761904761904702, 30.76190476190476), (0.6565656565656468, 5.888888888888886), (28.96296296296299, 59.90740740740742), (93.96666666666664, 31.694444444444457)]\n"
     ]
    }
   ],
   "source": [
    "print(glints_difference[1])"
   ]
  },
  {
   "cell_type": "code",
   "execution_count": 58,
   "id": "fancy-castle",
   "metadata": {},
   "outputs": [
    {
     "name": "stdout",
     "output_type": "stream",
     "text": [
      "[(22.0, 25.0), (59.5, 27.0), (64.0, 42.5)]\n"
     ]
    }
   ],
   "source": [
    "print(glints_difference[40])"
   ]
  },
  {
   "cell_type": "code",
   "execution_count": 59,
   "id": "reverse-courage",
   "metadata": {},
   "outputs": [
    {
     "name": "stdout",
     "output_type": "stream",
     "text": [
      "[[(67.67619047619047, 30.23809523809524), (21.24444444444447, 37.5), (26.609929078014204, 15.858156028368796), (28.360360360360346, 12.639639639639654)], [(2.6761904761904702, 30.76190476190476), (0.6565656565656468, 5.888888888888886), (28.96296296296299, 59.90740740740742), (93.96666666666664, 31.694444444444457)], [(3.343434343434353, 31.111111111111114), (1.4736842105263008, 8.877192982456137)], [(67.63963963963965, 38.639639639639654), (80.0, 11.0), (27.5, 4.241666666666674), (50.241666666666674, 59.5)], [(2.5, 29.5), (0.0, 7.5), (89.70666666666665, 14.0), (0.39007092198579585, 26.858156028368796)], [(1.0, 12.844444444444434), (0.5, 12.5)], [(2.111111111111086, 11.343434343434353), (1.6913580246913398, 12.135802469135797), (106.89999999999998, 13.039999999999992), (48.5, 62.5)], [(1.8541666666666856, 12.854166666666657), (1.5, 12.0), (91.13605442176873, 13.721088435374156), (1.6231884057971229, 29.0)], [(1.0, 10.844444444444434), (1.2444444444444684, 11.5)], [(54.639639639639654, 31.639639639639654), (9.155555555555566, 6.0), (34.61805555555554, 20.479166666666657), (14.620155038759663, 50.37984496124031)], [(43.241666666666674, 30.5), (45.5, 20.0), (49.19230769230768, 25.0), (93.5, 34.0)], [(63.877192982456165, 29.5263157894737), (60.65656565656565, 6.111111111111114), (60.5, 10.26666666666668), (60.5, 11.733333333333348)], [(58.0, 32.0), (55.53125, 3.625), (30.0, 57.784946236559136)], [(43.5, 43.5), (34.5, 3.75555555555556)], [(31.5, 31.5), (27.639639639639654, 7.639639639639626)], [(8.639639639639654, 49.639639639639654), (1.5, 18.75555555555556), (14.5, 22.5), (17.248226950354592, 48.24822695035462)], [(35.5, 33.758333333333326), (88.0, 25.155555555555566), (70.62015503875966, 0.620155038759691), (68.37681159420288, 1.0)], [(61.360360360360346, 22.360360360360374), (58.155555555555566, 13.0), (57.26666666666665, 3.5), (58.0, 4.5)], [(26.639639639639654, 36.639639639639654), (1.0, 25.5), (63.5, 20.298850574712645), (31.28395061728395, 25.71604938271605)], [(16.0, 36.844444444444434), (2.5, 22.0)], [(1.360360360360346, 47.360360360360374), (17.5, 23.0)], [(31.241666666666674, 39.5), (3.1555555555555657, 14.0), (32.886363636363626, 30.348484848484844), (26.479166666666686, 32.61805555555554)], [(17.758333333333326, 27.5), (29.854166666666686, 21.145833333333343), (12.362962962962968, 15.259259259259267), (65.63703703703703, 54.74074074074073)], [(8.5, 5.758333333333326), (89.0, 21.5), (60.5, 35.73333333333332), (67.0, 47.0)], [(18.0, 19.0), (77.85333333333335, 17.146666666666675), (47.70666666666665, 33.0), (74.0, 1.5977011494252906)], [(12.639639639639654, 5.639639639639654), (24.853333333333353, 8.146666666666675)], [(19.639639639639654, 14.360360360360374), (16.0, 21.0)], [(47.241666666666674, 31.5), (48.5, 19.5), (30.0, 53.5), (18.5, 60.0)], [(38.241666666666674, 34.5), (31.5, 26.5), (54.758333333333326, 32.5), (73.5, 48.758333333333326)], [(37.241666666666674, 41.5), (1.5, 32.5), (39.141843971631204, 1.6099290780141757), (38.5, 32.0)], [(32.34343434343435, 29.111111111111114), (29.0, 26.0), (58.5, 5.5), (57.608974358974365, 28.25641025641025)], [(38.639639639639654, 20.639639639639654), (44.14666666666665, 0.14666666666667538)], [(45.854166666666686, 0.1458333333333428), (47.69135802469134, 9.135802469135797)], [(24.0, 11.0), (7.844444444444434, 12.0), (40.44999999999999, 19.0)], [(20.864197530864203, 8.691358024691368), (31.0, 10.155555555555566), (43.241666666666674, 4.5), (37.0, 6.0)], [(51.8641975308642, 0.6913580246913682), (49.5, 35.5), (48.0, 18.5)], [(11.0, 21.155555555555566), (15.0, 2.0), (80.6099290780142, 3.8581560283687963)], [(4.0, 25.5), (12.135802469135797, 6.308641975308632)], [(14.360360360360346, 36.639639639639654), (27.24444444444447, 8.5)], [(3.238095238095241, 60.32380952380953), (22.5, 8.5), (3.0, 11.5), (21.30864197530866, 24.864197530864203)], [(22.0, 25.0), (59.5, 27.0), (64.0, 42.5)], [(8.4736842105263, 51.87719298245614), (1.1555555555555657, 30.0), (30.248226950354592, 34.75177304964538)], [(40.145833333333314, 17.145833333333343), (98.0, 15.0), (69.87719298245617, 29.5263157894737), (92.0, 2.8444444444444343)], [(46.666666666666686, 2.0), (109.85333333333335, 23.146666666666675)], [(41.85333333333335, 8.853333333333325), (99.0, 22.155555555555566)]]\n"
     ]
    }
   ],
   "source": [
    "print(glints_difference)"
   ]
  },
  {
   "cell_type": "code",
   "execution_count": null,
   "id": "applied-tribe",
   "metadata": {},
   "outputs": [],
   "source": [
    "(x1,y1), x2, y2, x3, y3 , x4,y4\n",
    " if (x1 <5 & y1 <5) && (x1 <5 & y1 <5)\n",
    "    count = count+1"
   ]
  }
 ],
 "metadata": {
  "kernelspec": {
   "display_name": "Python 3",
   "language": "python",
   "name": "python3"
  },
  "language_info": {
   "codemirror_mode": {
    "name": "ipython",
    "version": 3
   },
   "file_extension": ".py",
   "mimetype": "text/x-python",
   "name": "python",
   "nbconvert_exporter": "python",
   "pygments_lexer": "ipython3",
   "version": "3.8.6"
  }
 },
 "nbformat": 4,
 "nbformat_minor": 5
}
